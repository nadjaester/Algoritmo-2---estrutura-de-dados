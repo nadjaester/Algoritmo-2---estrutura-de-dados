{
 "cells": [
  {
   "cell_type": "code",
   "execution_count": 34,
   "metadata": {},
   "outputs": [
    {
     "name": "stdout",
     "output_type": "stream",
     "text": [
      "15.42\n"
     ]
    }
   ],
   "source": [
    "ano= int(input('coloque o ano da fabricação do carro:'))\n",
    "preço = float(input('coloque o preço do carro:'))\n",
    "\n",
    "valorPago1 = 1/100 * preço\n",
    "valorPago2 = 1,5/100 * preço\n",
    "\n",
    "if(ano <= 1990):\n",
    "    print(valorPago1)\n",
    "else:\n",
    "    print(valorPago2)"
   ]
  },
  {
   "cell_type": "code",
   "execution_count": 38,
   "metadata": {},
   "outputs": [
    {
     "name": "stdout",
     "output_type": "stream",
     "text": [
      "código do gerente é 101; código do engenheiro é 102; código do técnico é 103.\n",
      "seu salário antigo é 1000.0\n",
      "novo salario é 1100.0 diferença -900.0\n"
     ]
    }
   ],
   "source": [
    "print('código do gerente é 101; código do engenheiro é 102; código do técnico é 103.')\n",
    "\n",
    "salario = float(input('digite seu salário:'))\n",
    "cargo = float(input('qual seu código:'))\n",
    "\n",
    "cGerente = 101\n",
    "cEngenheiro = 102\n",
    "cTecnico = 103\n",
    "\n",
    "salarioGerente = 10/100 * salario\n",
    "salarioEngenheiro = 20/100 * salario\n",
    "salarioTecnico = 30/100 * salario\n",
    "cargoForaDaTabela = 40/100 * salario\n",
    "\n",
    "diferençaGerente = salarioGerente- salario\n",
    "diferençaEngenheiro = salarioEngenheiro - salario\n",
    "diferençaTecnico =salarioTecnico -salario\n",
    "diferença = cargoForaDaTabela - salario\n",
    "\n",
    "print('seu salário antigo é',salario)\n",
    "if(cargo == cGerente):\n",
    "    print('novo salario é', salarioGerente + salario, 'diferença', diferençaGerente)\n",
    "elif(cargo == cEngenheiro):\n",
    "    print('novo salário é', salarioEngenheiro + salario, 'diferença', diferençaEngenheiro )\n",
    "elif(cargo == cTecnico):\n",
    "    print('novo salário é,', salarioTecnico + salario,'diferença', diferençaTecnico)\n",
    "else :\n",
    "    print('novo salário é', cargoForaDaTabela + salario,'diferença', diferença)\n",
    "\n",
    "\n",
    "\n",
    "\n",
    "\n",
    "\n"
   ]
  }
 ],
 "metadata": {
  "kernelspec": {
   "display_name": "Python 3",
   "language": "python",
   "name": "python3"
  },
  "language_info": {
   "codemirror_mode": {
    "name": "ipython",
    "version": 3
   },
   "file_extension": ".py",
   "mimetype": "text/x-python",
   "name": "python",
   "nbconvert_exporter": "python",
   "pygments_lexer": "ipython3",
   "version": "3.11.9"
  }
 },
 "nbformat": 4,
 "nbformat_minor": 2
}
